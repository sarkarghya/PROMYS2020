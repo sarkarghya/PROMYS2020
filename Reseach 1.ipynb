{
 "cells": [
  {
   "cell_type": "code",
   "execution_count": 3,
   "metadata": {},
   "outputs": [],
   "source": [
    "import random\n",
    "\n",
    "def generate_polynomial(degree):\n",
    "    \"\"\"Originally degree, a, b chooses coefficients for a polynomial of the given degree, such that f(a) == b\"\"\"\n",
    "    a = random.randint(0,1000) #use lower range to reduce computational load\n",
    "    b = random.randint(0,10000)\n",
    "    \n",
    "    #to fit only one data point, we can choose arbitrary values for every coefficient except one, which we initially set to zero.\n",
    "    coefficients = [0] + [random.randint(1, 10) for _ in range(degree-1)]\n",
    "\n",
    "    #now calculate f(a). This will probably not be equal to b, initially.\n",
    "    y = sum(coefficient * a**n for n, coefficient in enumerate(coefficients))\n",
    "\n",
    "    #setting the final coefficient to their difference will cause f(a) to equal b.\n",
    "    coefficients[0] = b - y\n",
    "\n",
    "    return coefficients\n",
    "\n",
    "#[-18, 7, 2] This corresponds to f(x) == 2*x^2 + 7*x - 18.\n",
    "\n",
    "\n",
    "# coefficient a of exponent b\n",
    "def co(a,b):\n",
    "    li = []\n",
    "    while len(li) != a:\n",
    "        li.append(b)\n",
    "    return li\n",
    "\n",
    "import itertools\n",
    "def flatum(l):\n",
    "    merged = list(itertools.chain(*l))\n",
    "    return(sum(l, []))\n",
    "\n",
    "# makes polynomial without coefficients\n",
    "def mp(k):\n",
    "#    k = flatum(k)\n",
    "    po = []\n",
    "    i = 0\n",
    "    while i < len(k):\n",
    "        pr = k[i]\n",
    "        ter = pow(n, pr)\n",
    "        # change n to other varible if required\n",
    "        po.append(ter)\n",
    "        i += 1\n",
    "    return sum(po) \n",
    "\n",
    "# with co function\n",
    "def make_poly(r):\n",
    "    return mp(flatum(r))\n",
    "\n",
    "\n",
    "\n",
    "#make polynomial from just coefficients\n",
    "def mpc(k):\n",
    "    po = []\n",
    "    for i in range(len(k)):\n",
    "        cu = k[i]\n",
    "        ter = cu*pow(n, i)\n",
    "        # change n to other varible if required\n",
    "        po.append(ter)\n",
    "    return sum(po) \n",
    "\n",
    "#make random polynomial from just degree\n",
    "def rand_poly(deg):\n",
    "    return mpc(generate_polynomial(deg))\n",
    "\n",
    "#computes mp fast no need of %p function\n",
    "def mp_alpha(k):\n",
    "#    k = flatum(k)\n",
    "    po = []\n",
    "    i = 0\n",
    "    while i < len(k):\n",
    "        pr = k[i]\n",
    "        ter = pow(n, pr, p)\n",
    "        # change n to other varible if required\n",
    "        po.append(ter)\n",
    "        i += 1\n",
    "    return sum(po)"
   ]
  },
  {
   "cell_type": "code",
   "execution_count": 6,
   "metadata": {},
   "outputs": [
    {
     "name": "stdout",
     "output_type": "stream",
     "text": [
      "1 0.66741731374896373127645255477 -0.03529675492040607 [3]\n",
      "2 0.47580346713656073718923554113 0.15631709169199692 [3, 9]\n",
      "3 0.45826601433753015455049810399 0.1738545444910275 [3, 9, 27]\n",
      "4 0.45763887117436039563742496346 0.17448168765419725 [3, 9, 27, 81]\n",
      "5 0.45795023287605310347758689941 0.1741703259525046 [3, 9, 27, 81, 243]\n"
     ]
    },
    {
     "ename": "KeyboardInterrupt",
     "evalue": "",
     "output_type": "error",
     "traceback": [
      "\u001b[0;31m---------------------------------------------------------------------------\u001b[0m",
      "\u001b[0;31mKeyboardInterrupt\u001b[0m                         Traceback (most recent call last)",
      "\u001b[0;32m<ipython-input-6-ebf75ff90adf>\u001b[0m in \u001b[0;36m<module>\u001b[0;34m()\u001b[0m\n\u001b[1;32m     13\u001b[0m         \u001b[0mp\u001b[0m \u001b[0;34m=\u001b[0m \u001b[0mP\u001b[0m\u001b[0;34m.\u001b[0m\u001b[0munrank\u001b[0m\u001b[0;34m(\u001b[0m\u001b[0mp_num\u001b[0m\u001b[0;34m)\u001b[0m\u001b[0;34m\u001b[0m\u001b[0;34m\u001b[0m\u001b[0m\n\u001b[1;32m     14\u001b[0m         \u001b[0;32mfor\u001b[0m \u001b[0mn\u001b[0m \u001b[0;32min\u001b[0m \u001b[0mrange\u001b[0m\u001b[0;34m(\u001b[0m\u001b[0mInteger\u001b[0m\u001b[0;34m(\u001b[0m\u001b[0;36m0\u001b[0m\u001b[0;34m)\u001b[0m\u001b[0;34m,\u001b[0m \u001b[0mp\u001b[0m\u001b[0;34m)\u001b[0m\u001b[0;34m:\u001b[0m\u001b[0;34m\u001b[0m\u001b[0;34m\u001b[0m\u001b[0m\n\u001b[0;32m---> 15\u001b[0;31m             \u001b[0mimage\u001b[0m\u001b[0;34m.\u001b[0m\u001b[0madd\u001b[0m\u001b[0;34m(\u001b[0m\u001b[0mmp\u001b[0m\u001b[0;34m(\u001b[0m\u001b[0mrp\u001b[0m\u001b[0;34m)\u001b[0m \u001b[0;34m%\u001b[0m \u001b[0mp\u001b[0m\u001b[0;34m)\u001b[0m\u001b[0;34m\u001b[0m\u001b[0;34m\u001b[0m\u001b[0m\n\u001b[0m\u001b[1;32m     16\u001b[0m         \u001b[0mm\u001b[0m \u001b[0;34m=\u001b[0m \u001b[0;34m(\u001b[0m\u001b[0mlen\u001b[0m\u001b[0;34m(\u001b[0m\u001b[0mimage\u001b[0m\u001b[0;34m)\u001b[0m\u001b[0;34m/\u001b[0m\u001b[0mp\u001b[0m\u001b[0;34m)\u001b[0m\u001b[0;34m.\u001b[0m\u001b[0mn\u001b[0m\u001b[0;34m(\u001b[0m\u001b[0mInteger\u001b[0m\u001b[0;34m(\u001b[0m\u001b[0;36m100\u001b[0m\u001b[0;34m)\u001b[0m\u001b[0;34m)\u001b[0m\u001b[0;34m\u001b[0m\u001b[0;34m\u001b[0m\u001b[0m\n\u001b[1;32m     17\u001b[0m         \u001b[0mresult\u001b[0m\u001b[0;34m.\u001b[0m\u001b[0mappend\u001b[0m\u001b[0;34m(\u001b[0m\u001b[0mm\u001b[0m\u001b[0;34m)\u001b[0m\u001b[0;34m\u001b[0m\u001b[0;34m\u001b[0m\u001b[0m\n",
      "\u001b[0;32m<ipython-input-3-42bdf2d3b8bd>\u001b[0m in \u001b[0;36mmp\u001b[0;34m(k)\u001b[0m\n\u001b[1;32m     41\u001b[0m     \u001b[0;32mwhile\u001b[0m \u001b[0mi\u001b[0m \u001b[0;34m<\u001b[0m \u001b[0mlen\u001b[0m\u001b[0;34m(\u001b[0m\u001b[0mk\u001b[0m\u001b[0;34m)\u001b[0m\u001b[0;34m:\u001b[0m\u001b[0;34m\u001b[0m\u001b[0;34m\u001b[0m\u001b[0m\n\u001b[1;32m     42\u001b[0m         \u001b[0mpr\u001b[0m \u001b[0;34m=\u001b[0m \u001b[0mk\u001b[0m\u001b[0;34m[\u001b[0m\u001b[0mi\u001b[0m\u001b[0;34m]\u001b[0m\u001b[0;34m\u001b[0m\u001b[0;34m\u001b[0m\u001b[0m\n\u001b[0;32m---> 43\u001b[0;31m         \u001b[0mter\u001b[0m \u001b[0;34m=\u001b[0m \u001b[0mpow\u001b[0m\u001b[0;34m(\u001b[0m\u001b[0mn\u001b[0m\u001b[0;34m,\u001b[0m \u001b[0mpr\u001b[0m\u001b[0;34m)\u001b[0m\u001b[0;34m\u001b[0m\u001b[0;34m\u001b[0m\u001b[0m\n\u001b[0m\u001b[1;32m     44\u001b[0m         \u001b[0;31m# change n to other varible if required\u001b[0m\u001b[0;34m\u001b[0m\u001b[0;34m\u001b[0m\u001b[0;34m\u001b[0m\u001b[0m\n\u001b[1;32m     45\u001b[0m         \u001b[0mpo\u001b[0m\u001b[0;34m.\u001b[0m\u001b[0mappend\u001b[0m\u001b[0;34m(\u001b[0m\u001b[0mter\u001b[0m\u001b[0;34m)\u001b[0m\u001b[0;34m\u001b[0m\u001b[0;34m\u001b[0m\u001b[0m\n",
      "\u001b[0;32m/opt/sagemath-9.0/local/lib/python3.7/site-packages/sage/rings/integer.pyx\u001b[0m in \u001b[0;36msage.rings.integer.Integer.__pow__ (build/cythonized/sage/rings/integer.c:14935)\u001b[0;34m()\u001b[0m\n\u001b[1;32m   2212\u001b[0m             \u001b[0;32mreturn\u001b[0m \u001b[0mcoercion_model\u001b[0m\u001b[0;34m.\u001b[0m\u001b[0mbin_op\u001b[0m\u001b[0;34m(\u001b[0m\u001b[0mleft\u001b[0m\u001b[0;34m,\u001b[0m \u001b[0mright\u001b[0m\u001b[0;34m,\u001b[0m \u001b[0moperator\u001b[0m\u001b[0;34m.\u001b[0m\u001b[0mpow\u001b[0m\u001b[0;34m)\u001b[0m\u001b[0;34m\u001b[0m\u001b[0;34m\u001b[0m\u001b[0m\n\u001b[1;32m   2213\u001b[0m         \u001b[0;31m# left is a non-Element: do the powering with a Python int\u001b[0m\u001b[0;34m\u001b[0m\u001b[0;34m\u001b[0m\u001b[0;34m\u001b[0m\u001b[0m\n\u001b[0;32m-> 2214\u001b[0;31m         \u001b[0;32mreturn\u001b[0m \u001b[0mleft\u001b[0m \u001b[0;34m**\u001b[0m \u001b[0mint\u001b[0m\u001b[0;34m(\u001b[0m\u001b[0mright\u001b[0m\u001b[0;34m)\u001b[0m\u001b[0;34m\u001b[0m\u001b[0;34m\u001b[0m\u001b[0m\n\u001b[0m\u001b[1;32m   2215\u001b[0m \u001b[0;34m\u001b[0m\u001b[0m\n\u001b[1;32m   2216\u001b[0m     \u001b[0mcpdef\u001b[0m \u001b[0m_pow_\u001b[0m\u001b[0;34m(\u001b[0m\u001b[0mself\u001b[0m\u001b[0;34m,\u001b[0m \u001b[0mother\u001b[0m\u001b[0;34m)\u001b[0m\u001b[0;34m:\u001b[0m\u001b[0;34m\u001b[0m\u001b[0;34m\u001b[0m\u001b[0m\n",
      "\u001b[0;32msrc/cysignals/signals.pyx\u001b[0m in \u001b[0;36mcysignals.signals.python_check_interrupt\u001b[0;34m()\u001b[0m\n",
      "\u001b[0;31mKeyboardInterrupt\u001b[0m: "
     ]
    }
   ],
   "source": [
    "#Patrick salv\n",
    "P = Primes()\n",
    "\n",
    "\n",
    "rp = []\n",
    "for r in range(1, 15):\n",
    "    actual = 1-1/float(e)\n",
    "    result = []\n",
    "    g = pow(3,r)\n",
    "    rp.append(g)\n",
    "    for p_num in range(200, 1200):\n",
    "        image = set()\n",
    "        p = P.unrank(p_num)\n",
    "        for n in range(0, p):\n",
    "            image.add(mp(rp) % p)\n",
    "        m = (len(image)/p).n(100)\n",
    "        result.append(m)\n",
    "    mr = mean(result)\n",
    "    ra = actual - mr\n",
    "    print(r,mr,ra,rp)"
   ]
  },
  {
   "cell_type": "code",
   "execution_count": 122,
   "metadata": {},
   "outputs": [
    {
     "data": {
      "image/png": "[encoded data removed]",
      "text/plain": [
       "Graphics object consisting of 1 graphics primitive"
      ]
     },
     "metadata": {},
     "output_type": "display_data"
    }
   ],
   "source": [
    "#Patrick salvage 2\n",
    "P = Primes()\n",
    "actual = 1-1/float(e)\n",
    "\n",
    "#rp = generate_polynomial(7)\n",
    "#print(rp)\n",
    "rp = []\n",
    "for i in range(8):\n",
    "    rp.append(11 + 18*i)\n",
    "\n",
    "result = []\n",
    "vals = [0 for _ in range(-1000,1000)]\n",
    "for p_num in range(100, 1200):\n",
    "    image = set()\n",
    "    p = P.unrank(p_num)\n",
    "    for n in range(0, p):\n",
    "        image.add(mp(rp) % p)\n",
    "    m = (len(image)/p).n(100)\n",
    "    errnor = sqrt(p)*(m-actual)\n",
    "    vals[int(errnor*100)+1000] += 1\n",
    "#    result.append(m)\n",
    "#mr = mean(result)\n",
    "#ra = actual - mr\n",
    "#print(mr,ra)\n",
    "\n",
    "# Graphing\n",
    "pts = [[(err-1000)/100, vals[err]] for err in range(len(vals))]\n",
    "G = list_plot(pts, plotjoined=True)\n",
    "G.show(xmin=-4, xmax=4)"
   ]
  },
  {
   "cell_type": "code",
   "execution_count": 110,
   "metadata": {},
   "outputs": [
    {
     "name": "stdout",
     "output_type": "stream",
     "text": [
      "[-539635122986383097, 2, 3, 9, 8, 1, 8]\n"
     ]
    },
    {
     "data": {
      "image/png": "[encoded data removed]",
      "text/plain": [
       "Graphics object consisting of 1 graphics primitive"
      ]
     },
     "metadata": {},
     "output_type": "display_data"
    }
   ],
   "source": [
    "#Patrick salvage1\n",
    "P = Primes()\n",
    "actual = 1-1/float(e)\n",
    "\n",
    "rp = generate_polynomial(7)\n",
    "print(rp)\n",
    "\n",
    "result = []\n",
    "vals = [0 for _ in range(-1000,1000)]\n",
    "for p_num in range(100, 1200):\n",
    "    image = set()\n",
    "    p = P.unrank(p_num)\n",
    "    for n in range(0, p):\n",
    "        image.add(mpc(rp) % p)\n",
    "    m = (len(image)/p).n(100)\n",
    "    errnor = sqrt(p)*(m-actual)\n",
    "    vals[int(errnor*100)+1000] += 1\n",
    "#    result.append(m)\n",
    "#mr = mean(result)\n",
    "#ra = actual - mr\n",
    "#print(mr,ra)\n",
    "\n",
    "# Graphing\n",
    "pts = [[(err-1000)/100, vals[err]] for err in range(len(vals))]\n",
    "G = list_plot(pts, plotjoined=True)\n",
    "G.show(xmin=-4, xmax=4)"
   ]
  },
  {
   "cell_type": "code",
   "execution_count": null,
   "metadata": {},
   "outputs": [],
   "source": []
  },
  {
   "cell_type": "code",
   "execution_count": 112,
   "metadata": {},
   "outputs": [
    {
     "name": "stdout",
     "output_type": "stream",
     "text": [
      "[-3293433945451602035, 2, 3, 8, 4, 3, 4]\n"
     ]
    },
    {
     "ename": "IndexError",
     "evalue": "list index out of range",
     "output_type": "error",
     "traceback": [
      "\u001b[0;31m---------------------------------------------------------------------------\u001b[0m",
      "\u001b[0;31mIndexError\u001b[0m                                Traceback (most recent call last)",
      "\u001b[0;32m<ipython-input-112-737cc7ece733>\u001b[0m in \u001b[0;36m<module>\u001b[0;34m()\u001b[0m\n\u001b[1;32m     16\u001b[0m         \u001b[0mm\u001b[0m \u001b[0;34m=\u001b[0m \u001b[0;34m(\u001b[0m\u001b[0mlen\u001b[0m\u001b[0;34m(\u001b[0m\u001b[0mimage\u001b[0m\u001b[0;34m)\u001b[0m\u001b[0;34m/\u001b[0m\u001b[0mp\u001b[0m\u001b[0;34m)\u001b[0m\u001b[0;34m.\u001b[0m\u001b[0mn\u001b[0m\u001b[0;34m(\u001b[0m\u001b[0mInteger\u001b[0m\u001b[0;34m(\u001b[0m\u001b[0;36m100\u001b[0m\u001b[0;34m)\u001b[0m\u001b[0;34m)\u001b[0m\u001b[0;34m\u001b[0m\u001b[0;34m\u001b[0m\u001b[0m\n\u001b[1;32m     17\u001b[0m         \u001b[0merrnor\u001b[0m \u001b[0;34m=\u001b[0m \u001b[0msqrt\u001b[0m\u001b[0;34m(\u001b[0m\u001b[0mp\u001b[0m\u001b[0;34m)\u001b[0m\u001b[0;34m*\u001b[0m\u001b[0;34m(\u001b[0m\u001b[0mm\u001b[0m\u001b[0;34m-\u001b[0m\u001b[0mactual\u001b[0m\u001b[0;34m)\u001b[0m\u001b[0;34m\u001b[0m\u001b[0;34m\u001b[0m\u001b[0m\n\u001b[0;32m---> 18\u001b[0;31m         \u001b[0mvals\u001b[0m\u001b[0;34m[\u001b[0m\u001b[0mint\u001b[0m\u001b[0;34m(\u001b[0m\u001b[0merrnor\u001b[0m\u001b[0;34m*\u001b[0m\u001b[0mInteger\u001b[0m\u001b[0;34m(\u001b[0m\u001b[0;36m100\u001b[0m\u001b[0;34m)\u001b[0m\u001b[0;34m)\u001b[0m\u001b[0;34m+\u001b[0m\u001b[0mInteger\u001b[0m\u001b[0;34m(\u001b[0m\u001b[0;36m1000\u001b[0m\u001b[0;34m)\u001b[0m\u001b[0;34m]\u001b[0m \u001b[0;34m+=\u001b[0m \u001b[0mInteger\u001b[0m\u001b[0;34m(\u001b[0m\u001b[0;36m1\u001b[0m\u001b[0;34m)\u001b[0m\u001b[0;34m\u001b[0m\u001b[0;34m\u001b[0m\u001b[0m\n\u001b[0m\u001b[1;32m     19\u001b[0m \u001b[0;34m\u001b[0m\u001b[0m\n\u001b[1;32m     20\u001b[0m \u001b[0;31m# Graphing\u001b[0m\u001b[0;34m\u001b[0m\u001b[0;34m\u001b[0m\u001b[0;34m\u001b[0m\u001b[0m\n",
      "\u001b[0;31mIndexError\u001b[0m: list index out of range"
     ]
    }
   ],
   "source": [
    "#Patrick salvage2\n",
    "P = Primes()\n",
    "actual = 1-1/float(e)\n",
    "\n",
    "rp = generate_polynomial(7)\n",
    "print(rp)\n",
    "\n",
    "result = []\n",
    "vals = [0 for _ in range(-1000,1000)]\n",
    "for p_num in range(100, 1200):\n",
    "    image = set()\n",
    "    p = P.unrank(p_num)\n",
    "    for n in range(0, p):\n",
    "        if  % \n",
    "        image.add(mpc(rp) % p)\n",
    "    m = (len(image)/p).n(100)\n",
    "    errnor = sqrt(p)*(m-actual)\n",
    "    vals[int(errnor*100)+1000] += 1\n",
    "\n",
    "# Graphing\n",
    "pts = [[(err-1000)/100, vals[err]] for err in range(len(vals))]\n",
    "G = list_plot(pts, plotjoined=True)\n",
    "G.show(xmin=-4, xmax=4)"
   ]
  },
  {
   "cell_type": "code",
   "execution_count": null,
   "metadata": {
    "scrolled": true
   },
   "outputs": [],
   "source": [
    "# Nir's code\n",
    "f = lambda p : len(set([(\n",
    "    pow(x,100,p) + x\n",
    "    ) % p for x in range(p)]))\n",
    "# This is off by something like 1/101!\n",
    "# I'm not that concerned about that error\n",
    "actual = 1-1/e\n",
    "# Hundreths place, from -10 to 10, for good measure\n",
    "vals = [0 for _ in range(-1000,1000)]\n",
    "for p in Primes():\n",
    "    err = (f(p)-actual*p) / sqrt(p)\n",
    "    print(numerical_approx(err))\n",
    "    vals[int(err*100)+1000] += 1\n",
    "#    if p % 100 == 3:\n",
    "#        print(p)\n",
    "\n",
    "# Graphing\n",
    "#pts = [[(err-1000)/100, vals[err]] for err in range(len(vals))]\n",
    "#print(pts)"
   ]
  },
  {
   "cell_type": "code",
   "execution_count": 45,
   "metadata": {},
   "outputs": [
    {
     "name": "stdout",
     "output_type": "stream",
     "text": [
      "0.62514534091321257982640740498 0.0069752179153450555\n"
     ]
    }
   ],
   "source": [
    "#Patrick's code to check p % 4 == 3\n",
    "P = Primes()\n",
    "result = []\n",
    "for p_num in range(100, 1000):\n",
    "    image = set()\n",
    "    p = P.unrank(p_num)\n",
    "    for n in range(0, p):\n",
    "        if p % 4 == 3:\n",
    "            image.add((n^4 + n^3) % p)\n",
    "    m = (len(image)/p).n(100)\n",
    "    if m != 0:\n",
    "        result.append(m)\n",
    "\n",
    "actual= 1-1/float(e)\n",
    "r= actual - mean(result)\n",
    "print(mean(result),r)\n"
   ]
  },
  {
   "cell_type": "code",
   "execution_count": 2,
   "metadata": {},
   "outputs": [
    {
     "name": "stdout",
     "output_type": "stream",
     "text": [
      "0.63241772318127626949669119576 -0.0002971643527186485\n"
     ]
    }
   ],
   "source": [
    "#Patrick's code to check p % 4 == 1\n",
    "P = Primes()\n",
    "result = []\n",
    "for p_num in range(100, 1000):\n",
    "    image = set()\n",
    "    p = P.unrank(p_num)\n",
    "    for n in range(0, p):\n",
    "        if p % 4 == 1:\n",
    "            image.add(rand_poly(5) % p)\n",
    "    m = (len(image)/p).n(100)\n",
    "    if m != 0:\n",
    "        result.append(m)\n",
    "\n",
    "actual= 1-1/float(e)\n",
    "r= actual - mean(result)\n",
    "print(mean(result),r)"
   ]
  },
  {
   "cell_type": "code",
   "execution_count": 97,
   "metadata": {},
   "outputs": [
    {
     "name": "stdout",
     "output_type": "stream",
     "text": [
      "0.39353947745654848020823964279 0.23858108137200917 0.10646052254345151979176035721\n"
     ]
    }
   ],
   "source": [
    "#Partrick's original \n",
    "P = Primes()\n",
    "actual = 1-1/float(e)\n",
    "result = []\n",
    "\n",
    "for p_num in range(800, 1200):\n",
    "    image = set()\n",
    "    p = P.unrank(p_num)\n",
    "    for n in range(0, p):\n",
    "        image.add(mp([16,8,4,2]) % p)\n",
    "    m = (len(image)/p).n(100)\n",
    "    result.append(m)\n",
    "\n",
    "mr = mean(result)\n",
    "\n",
    "patval = 1/2\n",
    "\n",
    "ra = actual - mr\n",
    "rb = patval - mr\n",
    "print(mr,ra)"
   ]
  },
  {
   "cell_type": "code",
   "execution_count": 5,
   "metadata": {},
   "outputs": [
    {
     "name": "stdout",
     "output_type": "stream",
     "text": [
      "1 0.63217956700544915394518038797 -5.9008176891528485e-05\n"
     ]
    }
   ],
   "source": [
    "#ps\n",
    "P = Primes()\n",
    "\n",
    "\n",
    "rp = []\n",
    "for r in range(1, 2):\n",
    "    actual = 1-1/float(e)\n",
    "#    result = []\n",
    "#    g = pow(2,r)\n",
    "#    rp.append(g)\n",
    "    for p_num in range(800, 1200):\n",
    "        image = set()\n",
    "        p = P.unrank(p_num)\n",
    "        for n in range(0, p):\n",
    "            image.add(mp([2,18,91]) % p)\n",
    "        m = (len(image)/p).n(100)\n",
    "        result.append(m)\n",
    "    mr = mean(result)\n",
    "    ra = actual - mr\n",
    "    print(r,mr,ra)"
   ]
  },
  {
   "cell_type": "code",
   "execution_count": 80,
   "metadata": {},
   "outputs": [
    {
     "ename": "TypeError",
     "evalue": "object of type 'float' has no len()",
     "output_type": "error",
     "traceback": [
      "\u001b[0;31m---------------------------------------------------------------------------\u001b[0m",
      "\u001b[0;31mTypeError\u001b[0m                                 Traceback (most recent call last)",
      "\u001b[0;32m<ipython-input-80-001fc0c3a712>\u001b[0m in \u001b[0;36m<module>\u001b[0;34m()\u001b[0m\n\u001b[1;32m     18\u001b[0m     \u001b[0mra\u001b[0m \u001b[0;34m=\u001b[0m \u001b[0mactual\u001b[0m \u001b[0;34m-\u001b[0m \u001b[0mmr\u001b[0m\u001b[0;34m\u001b[0m\u001b[0;34m\u001b[0m\u001b[0m\n\u001b[1;32m     19\u001b[0m \u001b[0;34m\u001b[0m\u001b[0m\n\u001b[0;32m---> 20\u001b[0;31m     \u001b[0mG\u001b[0m \u001b[0;34m=\u001b[0m \u001b[0mplot\u001b[0m\u001b[0;34m(\u001b[0m\u001b[0mmr\u001b[0m\u001b[0;34m,\u001b[0m\u001b[0mra\u001b[0m\u001b[0;34m)\u001b[0m\u001b[0;34m\u001b[0m\u001b[0;34m\u001b[0m\u001b[0m\n\u001b[0m\u001b[1;32m     21\u001b[0m \u001b[0;31m#pts = [[(err-1000)/100, vals[err]] for err in range(len(vals))]\u001b[0m\u001b[0;34m\u001b[0m\u001b[0;34m\u001b[0m\u001b[0;34m\u001b[0m\u001b[0m\n\u001b[1;32m     22\u001b[0m \u001b[0;31m#G = list_plot(pts, plotjoined=False)\u001b[0m\u001b[0;34m\u001b[0m\u001b[0;34m\u001b[0m\u001b[0;34m\u001b[0m\u001b[0m\n",
      "\u001b[0;32m/opt/sagemath-9.0/local/lib/python3.7/site-packages/sage/misc/decorators.py\u001b[0m in \u001b[0;36mwrapper\u001b[0;34m(*args, **kwds)\u001b[0m\n\u001b[1;32m    491\u001b[0m                 \u001b[0moptions\u001b[0m\u001b[0;34m[\u001b[0m\u001b[0;34m'__original_opts'\u001b[0m\u001b[0;34m]\u001b[0m \u001b[0;34m=\u001b[0m \u001b[0mkwds\u001b[0m\u001b[0;34m\u001b[0m\u001b[0;34m\u001b[0m\u001b[0m\n\u001b[1;32m    492\u001b[0m             \u001b[0moptions\u001b[0m\u001b[0;34m.\u001b[0m\u001b[0mupdate\u001b[0m\u001b[0;34m(\u001b[0m\u001b[0mkwds\u001b[0m\u001b[0;34m)\u001b[0m\u001b[0;34m\u001b[0m\u001b[0;34m\u001b[0m\u001b[0m\n\u001b[0;32m--> 493\u001b[0;31m             \u001b[0;32mreturn\u001b[0m \u001b[0mfunc\u001b[0m\u001b[0;34m(\u001b[0m\u001b[0;34m*\u001b[0m\u001b[0margs\u001b[0m\u001b[0;34m,\u001b[0m \u001b[0;34m**\u001b[0m\u001b[0moptions\u001b[0m\u001b[0;34m)\u001b[0m\u001b[0;34m\u001b[0m\u001b[0;34m\u001b[0m\u001b[0m\n\u001b[0m\u001b[1;32m    494\u001b[0m \u001b[0;34m\u001b[0m\u001b[0m\n\u001b[1;32m    495\u001b[0m         \u001b[0;31m#Add the options specified by @options to the signature of the wrapped\u001b[0m\u001b[0;34m\u001b[0m\u001b[0;34m\u001b[0m\u001b[0;34m\u001b[0m\u001b[0m\n",
      "\u001b[0;32m/opt/sagemath-9.0/local/lib/python3.7/site-packages/sage/plot/plot.py\u001b[0m in \u001b[0;36mplot\u001b[0;34m(funcs, *args, **kwds)\u001b[0m\n\u001b[1;32m   1977\u001b[0m         \u001b[0;31m# if there is one extra arg, then it had better be a tuple\u001b[0m\u001b[0;34m\u001b[0m\u001b[0;34m\u001b[0m\u001b[0;34m\u001b[0m\u001b[0m\n\u001b[1;32m   1978\u001b[0m         \u001b[0;32melif\u001b[0m \u001b[0mn\u001b[0m \u001b[0;34m==\u001b[0m \u001b[0;36m1\u001b[0m\u001b[0;34m:\u001b[0m\u001b[0;34m\u001b[0m\u001b[0;34m\u001b[0m\u001b[0m\n\u001b[0;32m-> 1979\u001b[0;31m             \u001b[0mG\u001b[0m \u001b[0;34m=\u001b[0m \u001b[0m_plot\u001b[0m\u001b[0;34m(\u001b[0m\u001b[0mfuncs\u001b[0m\u001b[0;34m,\u001b[0m \u001b[0;34m*\u001b[0m\u001b[0margs\u001b[0m\u001b[0;34m,\u001b[0m \u001b[0;34m**\u001b[0m\u001b[0mkwds\u001b[0m\u001b[0;34m)\u001b[0m\u001b[0;34m\u001b[0m\u001b[0;34m\u001b[0m\u001b[0m\n\u001b[0m\u001b[1;32m   1980\u001b[0m         \u001b[0;32melif\u001b[0m \u001b[0mn\u001b[0m \u001b[0;34m==\u001b[0m \u001b[0;36m2\u001b[0m\u001b[0;34m:\u001b[0m\u001b[0;34m\u001b[0m\u001b[0;34m\u001b[0m\u001b[0m\n\u001b[1;32m   1981\u001b[0m         \u001b[0;31m# if there are two extra args, then pull them out and pass them as a tuple\u001b[0m\u001b[0;34m\u001b[0m\u001b[0;34m\u001b[0m\u001b[0;34m\u001b[0m\u001b[0m\n",
      "\u001b[0;32m/opt/sagemath-9.0/local/lib/python3.7/site-packages/sage/plot/plot.py\u001b[0m in \u001b[0;36m_plot\u001b[0;34m(funcs, xrange, parametric, polar, fill, label, randomize, **options)\u001b[0m\n\u001b[1;32m   2093\u001b[0m     \u001b[0morig_funcs\u001b[0m \u001b[0;34m=\u001b[0m \u001b[0mfuncs\u001b[0m \u001b[0;31m# keep the original functions (for use in legend labels)\u001b[0m\u001b[0;34m\u001b[0m\u001b[0;34m\u001b[0m\u001b[0m\n\u001b[1;32m   2094\u001b[0m     \u001b[0mexcluded_points\u001b[0m \u001b[0;34m=\u001b[0m \u001b[0;34m[\u001b[0m\u001b[0;34m]\u001b[0m\u001b[0;34m\u001b[0m\u001b[0;34m\u001b[0m\u001b[0m\n\u001b[0;32m-> 2095\u001b[0;31m     \u001b[0mfuncs\u001b[0m\u001b[0;34m,\u001b[0m \u001b[0mranges\u001b[0m \u001b[0;34m=\u001b[0m \u001b[0msetup_for_eval_on_grid\u001b[0m\u001b[0;34m(\u001b[0m\u001b[0mfuncs\u001b[0m\u001b[0;34m,\u001b[0m \u001b[0;34m[\u001b[0m\u001b[0mxrange\u001b[0m\u001b[0;34m]\u001b[0m\u001b[0;34m,\u001b[0m \u001b[0moptions\u001b[0m\u001b[0;34m[\u001b[0m\u001b[0;34m'plot_points'\u001b[0m\u001b[0;34m]\u001b[0m\u001b[0;34m)\u001b[0m\u001b[0;34m\u001b[0m\u001b[0;34m\u001b[0m\u001b[0m\n\u001b[0m\u001b[1;32m   2096\u001b[0m     \u001b[0mxmin\u001b[0m\u001b[0;34m,\u001b[0m \u001b[0mxmax\u001b[0m\u001b[0;34m,\u001b[0m \u001b[0mdelta\u001b[0m \u001b[0;34m=\u001b[0m \u001b[0mranges\u001b[0m\u001b[0;34m[\u001b[0m\u001b[0;36m0\u001b[0m\u001b[0;34m]\u001b[0m\u001b[0;34m\u001b[0m\u001b[0;34m\u001b[0m\u001b[0m\n\u001b[1;32m   2097\u001b[0m     \u001b[0mxrange\u001b[0m\u001b[0;34m=\u001b[0m\u001b[0mranges\u001b[0m\u001b[0;34m[\u001b[0m\u001b[0;36m0\u001b[0m\u001b[0;34m]\u001b[0m\u001b[0;34m[\u001b[0m\u001b[0;34m:\u001b[0m\u001b[0;36m2\u001b[0m\u001b[0;34m]\u001b[0m\u001b[0;34m\u001b[0m\u001b[0;34m\u001b[0m\u001b[0m\n",
      "\u001b[0;32m/opt/sagemath-9.0/local/lib/python3.7/site-packages/sage/plot/misc.py\u001b[0m in \u001b[0;36msetup_for_eval_on_grid\u001b[0;34m(funcs, ranges, plot_points, return_vars)\u001b[0m\n\u001b[1;32m    101\u001b[0m         \u001b[0;34m(\u001b[0m\u001b[0;34m<\u001b[0m\u001b[0msage\u001b[0m\u001b[0;34m.\u001b[0m\u001b[0mext\u001b[0m\u001b[0;34m...\u001b[0m\u001b[0;34m>\u001b[0m\u001b[0;34m,\u001b[0m \u001b[0;34m[\u001b[0m\u001b[0;34m(\u001b[0m\u001b[0;36m1.0\u001b[0m\u001b[0;34m,\u001b[0m \u001b[0;34m-\u001b[0m\u001b[0;36m1.0\u001b[0m\u001b[0;34m,\u001b[0m \u001b[0;36m2.0\u001b[0m\u001b[0;34m)\u001b[0m\u001b[0;34m,\u001b[0m \u001b[0;34m(\u001b[0m\u001b[0;34m-\u001b[0m\u001b[0;36m1.0\u001b[0m\u001b[0;34m,\u001b[0m \u001b[0;36m1.0\u001b[0m\u001b[0;34m,\u001b[0m \u001b[0;36m2.0\u001b[0m\u001b[0;34m)\u001b[0m\u001b[0;34m]\u001b[0m\u001b[0;34m,\u001b[0m \u001b[0;34m[\u001b[0m\u001b[0my\u001b[0m\u001b[0;34m,\u001b[0m \u001b[0mx\u001b[0m\u001b[0;34m]\u001b[0m\u001b[0;34m)\u001b[0m\u001b[0;34m\u001b[0m\u001b[0;34m\u001b[0m\u001b[0m\n\u001b[1;32m    102\u001b[0m     \"\"\"\n\u001b[0;32m--> 103\u001b[0;31m     \u001b[0;32mif\u001b[0m \u001b[0mmax\u001b[0m\u001b[0;34m(\u001b[0m\u001b[0mmap\u001b[0m\u001b[0;34m(\u001b[0m\u001b[0mlen\u001b[0m\u001b[0;34m,\u001b[0m \u001b[0mranges\u001b[0m\u001b[0;34m)\u001b[0m\u001b[0;34m)\u001b[0m \u001b[0;34m>\u001b[0m \u001b[0;36m3\u001b[0m\u001b[0;34m:\u001b[0m\u001b[0;34m\u001b[0m\u001b[0;34m\u001b[0m\u001b[0m\n\u001b[0m\u001b[1;32m    104\u001b[0m         \u001b[0;32mraise\u001b[0m \u001b[0mValueError\u001b[0m\u001b[0;34m(\u001b[0m\u001b[0;34m\"At least one variable range has more than 3 entries: each should either have 2 or 3 entries, with one of the forms (xmin, xmax) or (x, xmin, xmax)\"\u001b[0m\u001b[0;34m)\u001b[0m\u001b[0;34m\u001b[0m\u001b[0;34m\u001b[0m\u001b[0m\n\u001b[1;32m    105\u001b[0m     \u001b[0;32mif\u001b[0m \u001b[0mmax\u001b[0m\u001b[0;34m(\u001b[0m\u001b[0mmap\u001b[0m\u001b[0;34m(\u001b[0m\u001b[0mlen\u001b[0m\u001b[0;34m,\u001b[0m \u001b[0mranges\u001b[0m\u001b[0;34m)\u001b[0m\u001b[0;34m)\u001b[0m \u001b[0;34m!=\u001b[0m \u001b[0mmin\u001b[0m\u001b[0;34m(\u001b[0m\u001b[0mmap\u001b[0m\u001b[0;34m(\u001b[0m\u001b[0mlen\u001b[0m\u001b[0;34m,\u001b[0m \u001b[0mranges\u001b[0m\u001b[0;34m)\u001b[0m\u001b[0;34m)\u001b[0m\u001b[0;34m:\u001b[0m\u001b[0;34m\u001b[0m\u001b[0;34m\u001b[0m\u001b[0m\n",
      "\u001b[0;31mTypeError\u001b[0m: object of type 'float' has no len()"
     ]
    }
   ],
   "source": [
    "P = Primes()\n",
    "\n",
    "i = 0\n",
    "actual = 1-1/float(e)\n",
    "\n",
    "while i in range(3):\n",
    "    i += 1\n",
    "    result = []\n",
    "    for p_num in range(800, 1200):\n",
    "        image = set()\n",
    "        p = P.unrank(p_num)\n",
    "        for n in range(0, p):\n",
    "            image.add((n^i) % p)\n",
    "        m = (len(image)/p).n(100)\n",
    "        result.append(m)\n",
    "\n",
    "    mr = mean(result)\n",
    "    ra = actual - mr\n",
    "    \n",
    "    G = plot(mr,ra)\n",
    "#pts = [[(err-1000)/100, vals[err]] for err in range(len(vals))]\n",
    "#G = list_plot(pts, plotjoined=False)\n",
    "G.show()"
   ]
  },
  {
   "cell_type": "code",
   "execution_count": 73,
   "metadata": {
    "scrolled": true
   },
   "outputs": [
    {
     "name": "stdout",
     "output_type": "stream",
     "text": [
      "0.50006416514796332091035912625 0.1320563936805943 -0.000064165147963320910359126245821 1/2\n",
      "0.43756380632487556007718357704 0.1945567525036821 -0.062563806324875560077183577037 3/8\n",
      "0.42278018681314046134561815147 0.20934037201541722 -0.13111352014647379467895148480 7/24\n",
      "0.41547000947399246606127352430 0.21665054935456518 -0.18109500947399246606127352430 15/64\n",
      "0.41108221520666380510625332306 0.22103834362189384 -0.21733221520666380510625332306 31/160\n",
      "0.40808777635426411808340023970 0.22403278247429353 -0.24402527635426411808340023970 21/128\n",
      "0.40605896502752281632746123044 0.22606159380103485 -0.26431789359895138775603265901 127/896\n",
      "0.40443678825576921476573305115 0.22768377057278844 -0.27992506950576921476573305115 255/2048\n",
      "0.40319761902520089988456024030 0.22892293980335676 -0.29230352180297867766233801808 511/4608\n"
     ]
    },
    {
     "name": "stderr",
     "output_type": "stream",
     "text": [
      "ERROR:root:Internal Python error in the inspect module.\n",
      "Below is the traceback from this internal error.\n",
      "\n"
     ]
    },
    {
     "name": "stdout",
     "output_type": "stream",
     "text": [
      "Traceback (most recent call last):\n",
      "  File \"/opt/sagemath-9.0/local/lib/python3.7/site-packages/IPython/core/interactiveshell.py\", line 2878, in run_code\n",
      "    exec(code_obj, self.user_global_ns, self.user_ns)\n",
      "  File \"<ipython-input-73-153d3dfee1dd>\", line 15, in <module>\n",
      "    terms = pow(n,tp)\n",
      "  File \"sage/rings/integer.pyx\", line 2214, in sage.rings.integer.Integer.__pow__ (build/cythonized/sage/rings/integer.c:14935)\n",
      "    return left ** int(right)\n",
      "  File \"src/cysignals/signals.pyx\", line 320, in cysignals.signals.python_check_interrupt\n",
      "KeyboardInterrupt\n",
      "\n",
      "During handling of the above exception, another exception occurred:\n",
      "\n",
      "Traceback (most recent call last):\n",
      "  File \"/opt/sagemath-9.0/local/lib/python3.7/site-packages/IPython/core/interactiveshell.py\", line 1823, in showtraceback\n",
      "    stb = value._render_traceback_()\n",
      "AttributeError: 'KeyboardInterrupt' object has no attribute '_render_traceback_'\n",
      "\n",
      "During handling of the above exception, another exception occurred:\n",
      "\n",
      "Traceback (most recent call last):\n",
      "  File \"/opt/sagemath-9.0/local/lib/python3.7/site-packages/IPython/core/ultratb.py\", line 1132, in get_records\n",
      "    return _fixed_getinnerframes(etb, number_of_lines_of_context, tb_offset)\n",
      "  File \"/opt/sagemath-9.0/local/lib/python3.7/site-packages/IPython/core/ultratb.py\", line 313, in wrapped\n",
      "    return f(*args, **kwargs)\n",
      "  File \"/opt/sagemath-9.0/local/lib/python3.7/site-packages/IPython/core/ultratb.py\", line 358, in _fixed_getinnerframes\n",
      "    records = fix_frame_records_filenames(inspect.getinnerframes(etb, context))\n",
      "  File \"/opt/sagemath-9.0/local/lib/python3.7/inspect.py\", line 1502, in getinnerframes\n",
      "    frameinfo = (tb.tb_frame,) + getframeinfo(tb, context)\n",
      "  File \"/opt/sagemath-9.0/local/lib/python3.7/inspect.py\", line 1460, in getframeinfo\n",
      "    filename = getsourcefile(frame) or getfile(frame)\n",
      "  File \"/opt/sagemath-9.0/local/lib/python3.7/inspect.py\", line 693, in getsourcefile\n",
      "    if os.path.exists(filename):\n",
      "  File \"/opt/sagemath-9.0/local/lib/python3.7/genericpath.py\", line 19, in exists\n",
      "    os.stat(path)\n",
      "  File \"src/cysignals/signals.pyx\", line 320, in cysignals.signals.python_check_interrupt\n",
      "KeyboardInterrupt\n"
     ]
    },
    {
     "ename": "KeyboardInterrupt",
     "evalue": "",
     "output_type": "error",
     "traceback": [
      "\u001b[0;31m---------------------------------------------------------------------------\u001b[0m"
     ]
    }
   ],
   "source": [
    "P = Primes()\n",
    "result = []\n",
    "\n",
    "i = 0\n",
    "actual = 1-1/float(e)\n",
    "\n",
    "while i in range(15):\n",
    "    i += 1\n",
    "    for p_num in range(800, 1200):\n",
    "        image = set()\n",
    "        p = P.unrank(p_num)\n",
    "        for n in range(0, p):\n",
    "            polynom = []\n",
    "            while len(polynom) in range(i):\n",
    "                # change polynomial individual terms\n",
    "                tp = 2**(len(polynom) + 1)\n",
    "                # change power\n",
    "                terms = pow(n,tp)\n",
    "                polynom.append(terms)\n",
    "            poly = sum(polynom)\n",
    "            image.add(poly % p)\n",
    "        m = (len(image)/p).n(100)\n",
    "        result.append(m)\n",
    "\n",
    "    mr = mean(result)\n",
    "#    y = 0\n",
    "#    x = 0\n",
    "#    while x in range(i):\n",
    "#        x += 1\n",
    "#        y += 1 / 2**x\n",
    "#    patval = y/i\n",
    "\n",
    "    ra = actual - mr\n",
    "    rb = patval - mr\n",
    "    print(mr,ra,rb,patval)\n",
    "\n",
    "#Sample o/p\n",
    "#0.50006416514796332091035912625 0.1320563936805943 -0.000064165147963320910359126245821 1/2\n",
    "#0.43756380632487556007718357704 0.1945567525036821 -0.062563806324875560077183577037 3/8\n",
    "#0.42278018681314046134561815147 0.20934037201541722 -0.13111352014647379467895148480 7/24\n",
    "#0.41547000947399246606127352430 0.21665054935456518 -0.18109500947399246606127352430 15/64\n",
    "#0.41108221520666380510625332306 0.22103834362189384 -0.21733221520666380510625332306 31/160\n",
    "#0.40808777635426411808340023970 0.22403278247429353 -0.24402527635426411808340023970 21/128\n",
    "#0.40605896502752281632746123044 0.22606159380103485 -0.26431789359895138775603265901 127/896\n",
    "#0.40443678825576921476573305115 0.22768377057278844 -0.27992506950576921476573305115 255/2048\n",
    "#0.40319761902520089988456024030 0.22892293980335676 -0.29230352180297867766233801808 511/4608\n"
   ]
  },
  {
   "cell_type": "code",
   "execution_count": 17,
   "metadata": {},
   "outputs": [
    {
     "name": "stdout",
     "output_type": "stream",
     "text": [
      "0.12629022891382358\n"
     ]
    }
   ],
   "source": [
    "a = 1-1/float(e)\n",
    "val= ((a)^3)/2\n",
    "print(val)"
   ]
  },
  {
   "cell_type": "code",
   "execution_count": null,
   "metadata": {},
   "outputs": [],
   "source": []
  }
 ],
 "metadata": {
  "kernelspec": {
   "display_name": "SageMath 9.0",
   "language": "sage",
   "name": "sagemath"
  },
  "language_info": {
   "codemirror_mode": {
    "name": "ipython",
    "version": 3
   },
   "file_extension": ".py",
   "mimetype": "text/x-python",
   "name": "python",
   "nbconvert_exporter": "python",
   "pygments_lexer": "ipython3",
   "version": "3.7.3"
  }
 },
 "nbformat": 4,
 "nbformat_minor": 4
}
